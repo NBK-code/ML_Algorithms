{
  "nbformat": 4,
  "nbformat_minor": 0,
  "metadata": {
    "colab": {
      "name": "Logistic_Regression.ipynb",
      "provenance": [],
      "authorship_tag": "ABX9TyOac0JJZgPeyHTleBQ885Cg",
      "include_colab_link": true
    },
    "kernelspec": {
      "name": "python3",
      "display_name": "Python 3"
    },
    "language_info": {
      "name": "python"
    }
  },
  "cells": [
    {
      "cell_type": "markdown",
      "metadata": {
        "id": "view-in-github",
        "colab_type": "text"
      },
      "source": [
        "<a href=\"https://colab.research.google.com/github/NBK-code/ML_Algorithms/blob/main/Logistic_Regression.ipynb\" target=\"_parent\"><img src=\"https://colab.research.google.com/assets/colab-badge.svg\" alt=\"Open In Colab\"/></a>"
      ]
    },
    {
      "cell_type": "markdown",
      "metadata": {
        "id": "xgdO9Nozcl77"
      },
      "source": [
        "## Logistic Regression"
      ]
    },
    {
      "cell_type": "code",
      "metadata": {
        "id": "AGDHnwyiMWFL"
      },
      "source": [
        "import random\n",
        "import matplotlib.pyplot as plt\n",
        "import math"
      ],
      "execution_count": 1,
      "outputs": []
    },
    {
      "cell_type": "code",
      "metadata": {
        "id": "1ZrneXPxXBdj"
      },
      "source": [
        "def logistic_regression(x, y, epochs = 10, learning_rate = 0.001):\n",
        "\n",
        "  n = len(x) # no of data points\n",
        "  m = len(x[0]) #no of features\n",
        "\n",
        "  b0, bs = initialize_params(m)\n",
        "\n",
        "  for i in range(epochs):\n",
        "\n",
        "    loss, d_bo, d_bs = compute_gradients(x, y, b0, bs, n, m)\n",
        "    print(\"Epoch:\", i+1, \"  loss:\", loss)\n",
        "    b0, bs = update_params(b0, bs, d_bo, d_bs, learning_rate)\n",
        "\n",
        "  return b0, bs"
      ],
      "execution_count": 2,
      "outputs": []
    },
    {
      "cell_type": "code",
      "metadata": {
        "id": "wHbsO5LAXGxt"
      },
      "source": [
        "def initialize_params(m):\n",
        "  b0 = random.random()\n",
        "  bs = [random.random() for _ in range(m)]\n",
        "  return b0, bs"
      ],
      "execution_count": 3,
      "outputs": []
    },
    {
      "cell_type": "code",
      "metadata": {
        "id": "3lulP6scXJpp"
      },
      "source": [
        "def compute_gradients(x, y, b0, bs, n, m):\n",
        "  loss = 0\n",
        "  d_b0 = 0\n",
        "  d_bs = []\n",
        "  y_hat_list = []\n",
        "\n",
        "  for i in range(n):\n",
        "    z = b0\n",
        "    for j in range(m):\n",
        "      z += bs[j]*x[i][j]\n",
        "    y_hat = logistic_fun(z)\n",
        "    y_hat_list.append(y_hat)\n",
        "\n",
        "  for i in range(n):\n",
        "    loss += (1/n)*binary_loss(y[i], y_hat_list[i])\n",
        "\n",
        "  for i in range(n):\n",
        "    d_b0 -= (1/n)*(y[i] - y_hat_list[i])\n",
        "\n",
        "  for j in range(m):\n",
        "    d_bs_j = 0\n",
        "    for i in range(n):\n",
        "      d_bs_j -= (1/n)*(y[i] - y_hat_list[i])*x[i][j]\n",
        "    d_bs.append(d_bs_j)\n",
        "\n",
        "  return loss, d_b0, d_bs"
      ],
      "execution_count": 4,
      "outputs": []
    },
    {
      "cell_type": "code",
      "metadata": {
        "id": "YbtsDKozXuT3"
      },
      "source": [
        "def logistic_fun(z):\n",
        "  y_hat = 1/(1+math.exp(-z))\n",
        "  return y_hat"
      ],
      "execution_count": 5,
      "outputs": []
    },
    {
      "cell_type": "code",
      "metadata": {
        "id": "N9-IZ2a8YwRk"
      },
      "source": [
        "def binary_loss(y, y_hat):\n",
        "  loss = -y*math.log(y_hat)-(1-y)*math.log(1-y_hat)\n",
        "  return loss"
      ],
      "execution_count": 6,
      "outputs": []
    },
    {
      "cell_type": "code",
      "metadata": {
        "id": "JcCwkNU8XNwK"
      },
      "source": [
        "def update_params(b0, bs, d_bo, d_bs, learning_rate):\n",
        "  b0 = b0 - learning_rate*d_bo\n",
        "\n",
        "  for i in range(len(bs)):\n",
        "    bs[i] = bs[i] - learning_rate*d_bs[i]\n",
        "\n",
        "  return b0, bs"
      ],
      "execution_count": 7,
      "outputs": []
    },
    {
      "cell_type": "markdown",
      "metadata": {
        "id": "4sL4Tu3Icsjo"
      },
      "source": [
        "Run on sample data"
      ]
    },
    {
      "cell_type": "code",
      "metadata": {
        "id": "lNg8XfnlYJhv"
      },
      "source": [
        "x = [(1,2),(1,2),(2,3),(2,2),(3,4),(3,3),(1,4),(8,7),(8,8),(7,8),(9,9),(9,8),(10,10),(8,10)]"
      ],
      "execution_count": 8,
      "outputs": []
    },
    {
      "cell_type": "code",
      "metadata": {
        "id": "TTENj8upZdFI"
      },
      "source": [
        "y = [1, 1, 1, 1, 1, 1, 1, 0, 0, 0, 0, 0, 0, 0]"
      ],
      "execution_count": 9,
      "outputs": []
    },
    {
      "cell_type": "code",
      "metadata": {
        "colab": {
          "base_uri": "https://localhost:8080/"
        },
        "id": "ToEV70bOZfyH",
        "outputId": "554e094e-de66-43db-e421-caa0082c01b9"
      },
      "source": [
        "b0, bs = logistic_regression(x, y, epochs = 40, learning_rate = 0.01)"
      ],
      "execution_count": 10,
      "outputs": [
        {
          "output_type": "stream",
          "name": "stdout",
          "text": [
            "Epoch: 1   loss: 2.019472584975773\n",
            "Epoch: 2   loss: 1.7102836887877904\n",
            "Epoch: 3   loss: 1.4223812085969916\n",
            "Epoch: 4   loss: 1.1661026861917665\n",
            "Epoch: 5   loss: 0.9528731757014107\n",
            "Epoch: 6   loss: 0.789962531642466\n",
            "Epoch: 7   loss: 0.6754550052841118\n",
            "Epoch: 8   loss: 0.599444779615374\n",
            "Epoch: 9   loss: 0.5500617327758875\n",
            "Epoch: 10   loss: 0.5177830941728616\n",
            "Epoch: 11   loss: 0.49624534881474003\n",
            "Epoch: 12   loss: 0.48149488800288465\n",
            "Epoch: 13   loss: 0.47111558922582203\n",
            "Epoch: 14   loss: 0.4636166347084534\n",
            "Epoch: 15   loss: 0.45805936868244734\n",
            "Epoch: 16   loss: 0.45383882023543354\n",
            "Epoch: 17   loss: 0.45055594027633655\n",
            "Epoch: 18   loss: 0.44794176440301486\n",
            "Epoch: 19   loss: 0.445811431815369\n",
            "Epoch: 20   loss: 0.44403565582507365\n",
            "Epoch: 21   loss: 0.44252261377711183\n",
            "Epoch: 22   loss: 0.4412061995861519\n",
            "Epoch: 23   loss: 0.4400382490203666\n",
            "Epoch: 24   loss: 0.43898329871039565\n",
            "Epoch: 25   loss: 0.43801499351134543\n",
            "Epoch: 26   loss: 0.43711358612461854\n",
            "Epoch: 27   loss: 0.43626417284504065\n",
            "Epoch: 28   loss: 0.4354554331781834\n",
            "Epoch: 29   loss: 0.4346787192857889\n",
            "Epoch: 30   loss: 0.43392739148405834\n",
            "Epoch: 31   loss: 0.43319632886747056\n",
            "Epoch: 32   loss: 0.4324815659315053\n",
            "Epoch: 33   loss: 0.43178002074706223\n",
            "Epoch: 34   loss: 0.43108929025747567\n",
            "Epoch: 35   loss: 0.43040749519202676\n",
            "Epoch: 36   loss: 0.42973316192991756\n",
            "Epoch: 37   loss: 0.4290651320692697\n",
            "Epoch: 38   loss: 0.4284024928975172\n",
            "Epoch: 39   loss: 0.42774452371898686\n",
            "Epoch: 40   loss: 0.42709065427420195\n"
          ]
        }
      ]
    },
    {
      "cell_type": "code",
      "metadata": {
        "id": "y_UAWLJEZvTV"
      },
      "source": [
        "x_data = []\n",
        "y_data = []\n",
        "for p1,p2 in x:\n",
        "  x_data.append(p1)\n",
        "  y_data.append(p2)"
      ],
      "execution_count": 11,
      "outputs": []
    },
    {
      "cell_type": "code",
      "metadata": {
        "colab": {
          "base_uri": "https://localhost:8080/",
          "height": 265
        },
        "id": "356Ps2yPaQKX",
        "outputId": "2660406a-aafc-4b74-cde8-b1d102a0871f"
      },
      "source": [
        "plt.scatter(x_data, y_data, c = y)\n",
        "plt.show()"
      ],
      "execution_count": 12,
      "outputs": [
        {
          "output_type": "display_data",
          "data": {
            "image/png": "[encoded data removed]",
            "text/plain": [
              "<Figure size 432x288 with 1 Axes>"
            ]
          },
          "metadata": {
            "needs_background": "light"
          }
        }
      ]
    },
    {
      "cell_type": "markdown",
      "metadata": {
        "id": "kdFNaKkvcwVx"
      },
      "source": [
        "Inference"
      ]
    },
    {
      "cell_type": "code",
      "metadata": {
        "id": "XGgfPFmJae8K"
      },
      "source": [
        "def inference(x, b0, bs):\n",
        "  for i in range(len(x)):\n",
        "    z = b0\n",
        "    for j in range(len(x[0])):\n",
        "      z += bs[j]*x[i][j]\n",
        "    y_hat = logistic_fun(z)\n",
        "  return y_hat"
      ],
      "execution_count": 13,
      "outputs": []
    },
    {
      "cell_type": "code",
      "metadata": {
        "colab": {
          "base_uri": "https://localhost:8080/"
        },
        "id": "Q8R0flNybYWj",
        "outputId": "f3630a2a-bef4-4b2e-8be4-2201de0659ba"
      },
      "source": [
        "x_text = [(1,1)]\n",
        "inference(x_text, b0, bs)"
      ],
      "execution_count": 14,
      "outputs": [
        {
          "output_type": "execute_result",
          "data": {
            "text/plain": [
              "0.6368060119289827"
            ]
          },
          "metadata": {},
          "execution_count": 14
        }
      ]
    },
    {
      "cell_type": "code",
      "metadata": {
        "colab": {
          "base_uri": "https://localhost:8080/"
        },
        "id": "DBifDpYWboOK",
        "outputId": "78cf81e4-bae6-43d3-ef0a-163768372ab2"
      },
      "source": [
        "x_text = [(3.0,3.0)]\n",
        "inference(x_text, b0, bs)"
      ],
      "execution_count": 15,
      "outputs": [
        {
          "output_type": "execute_result",
          "data": {
            "text/plain": [
              "0.487695845781273"
            ]
          },
          "metadata": {},
          "execution_count": 15
        }
      ]
    },
    {
      "cell_type": "code",
      "metadata": {
        "colab": {
          "base_uri": "https://localhost:8080/"
        },
        "id": "iY-MxjL6cD6l",
        "outputId": "128919aa-ca9b-47cd-eb7b-5757b27dd7b1"
      },
      "source": [
        "x_text = [(6,6)]\n",
        "inference(x_text, b0, bs)"
      ],
      "execution_count": 16,
      "outputs": [
        {
          "output_type": "execute_result",
          "data": {
            "text/plain": [
              "0.2758066455989881"
            ]
          },
          "metadata": {},
          "execution_count": 16
        }
      ]
    }
  ]
}