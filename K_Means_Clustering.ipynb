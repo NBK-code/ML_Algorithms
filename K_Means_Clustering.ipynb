{
  "nbformat": 4,
  "nbformat_minor": 0,
  "metadata": {
    "colab": {
      "name": "K-Means_Clustering.ipynb",
      "provenance": [],
      "collapsed_sections": [],
      "authorship_tag": "ABX9TyMpI6vHqWynVBAidi/DA5TQ",
      "include_colab_link": true
    },
    "kernelspec": {
      "name": "python3",
      "display_name": "Python 3"
    },
    "language_info": {
      "name": "python"
    }
  },
  "cells": [
    {
      "cell_type": "markdown",
      "metadata": {
        "id": "view-in-github",
        "colab_type": "text"
      },
      "source": [
        "<a href=\"https://colab.research.google.com/github/NBK-code/ML_Algorithms/blob/main/K_Means_Clustering.ipynb\" target=\"_parent\"><img src=\"https://colab.research.google.com/assets/colab-badge.svg\" alt=\"Open In Colab\"/></a>"
      ]
    },
    {
      "cell_type": "markdown",
      "metadata": {
        "id": "7s3RyMOqnWz4"
      },
      "source": [
        "## K-means Clustering"
      ]
    },
    {
      "cell_type": "code",
      "metadata": {
        "id": "2vBSg5vpmnVP"
      },
      "source": [
        "import random"
      ],
      "execution_count": 1,
      "outputs": []
    },
    {
      "cell_type": "code",
      "metadata": {
        "id": "e9bZ14k2hu03"
      },
      "source": [
        "data = [(1,2),(1,2),(2,3),(2,2),(3,4),(3,3),(1,4),(8,7),(8,8),(7,8),(9,9),(9,8),(10,10),(8,10)]"
      ],
      "execution_count": 2,
      "outputs": []
    },
    {
      "cell_type": "code",
      "metadata": {
        "id": "C6HZPCZeh93t"
      },
      "source": [
        "def main(data, k):\n",
        "  centroids = initialize_centroids(data, k)\n",
        "\n",
        "  while True:\n",
        "    old_centroids = centroids\n",
        "    labels = find_labels(data, centroids)\n",
        "    centroids = update_centroids(data, labels, k)\n",
        "\n",
        "    if should_stop(old_centroids, centroids, k):\n",
        "      break\n",
        "\n",
        "  return labels"
      ],
      "execution_count": 3,
      "outputs": []
    },
    {
      "cell_type": "code",
      "metadata": {
        "id": "eyITGAnXjR9R"
      },
      "source": [
        "def initialize_centroids(data, k):\n",
        "  x_min, y_min = float('inf'), float('inf')\n",
        "  x_max, y_max = float('-inf'), float('-inf')\n",
        "\n",
        "  for x, y in data:\n",
        "    x_min = min(x_min, x)\n",
        "    y_min = min(y_min, y)\n",
        "    x_max = max(x_max, x)\n",
        "    y_max = max(y_max, y)\n",
        "\n",
        "  centroids = []\n",
        "\n",
        "  for i in range(k):\n",
        "    x = random_sample(x_min, x_max)\n",
        "    y = random_sample(y_min, y_max)\n",
        "    centroids.append((x,y))\n",
        "\n",
        "  return centroids"
      ],
      "execution_count": 4,
      "outputs": []
    },
    {
      "cell_type": "code",
      "metadata": {
        "id": "BNQN7w3Kk1gm"
      },
      "source": [
        "def random_sample(r_min, r_max):\n",
        "  p = random.random()\n",
        "  r = (r_max - r_min)*p + r_min\n",
        "\n",
        "  return r"
      ],
      "execution_count": 5,
      "outputs": []
    },
    {
      "cell_type": "code",
      "metadata": {
        "id": "NOVARwiAl_mR"
      },
      "source": [
        "def find_labels(data, centroids):\n",
        "  labels = []\n",
        "\n",
        "  for point in data:\n",
        "    min_dist = float('inf')\n",
        "    label = None\n",
        "    for i, centroid in enumerate(centroids):\n",
        "      new_dist = get_dist(point, centroid)\n",
        "      if new_dist < min_dist:\n",
        "        min_dist = new_dist\n",
        "        label = i\n",
        "    labels.append(label)\n",
        "\n",
        "  return labels"
      ],
      "execution_count": 6,
      "outputs": []
    },
    {
      "cell_type": "code",
      "metadata": {
        "id": "z86Y3IYCo_D9"
      },
      "source": [
        "def get_dist(point1, point2):\n",
        "  return ((point1[0] - point2[0])**2 + (point1[1] - point2[1])**2)**0.5"
      ],
      "execution_count": 7,
      "outputs": []
    },
    {
      "cell_type": "code",
      "metadata": {
        "id": "iH-43SMCpmEs"
      },
      "source": [
        "def update_centroids(data, labels, k):\n",
        "  centroids = []\n",
        "  for i in range(k):\n",
        "    x_c = 0\n",
        "    y_c = 0\n",
        "    count = 0\n",
        "    for j, point in enumerate(data):\n",
        "      if labels[j] == i:\n",
        "        x_c += point[0]\n",
        "        y_c += point[1]\n",
        "        count += 1\n",
        "    x_c = x_c/count\n",
        "    y_c = y_c/count\n",
        "\n",
        "    centroids.append((x_c, y_c))\n",
        "\n",
        "  return centroids"
      ],
      "execution_count": 8,
      "outputs": []
    },
    {
      "cell_type": "code",
      "metadata": {
        "id": "Ai6Rm3_YsDRr"
      },
      "source": [
        "def should_stop(old_centroids, centroids, k, threshold = 1.0):\n",
        "  total_dist = 0\n",
        "  for i in range(k):\n",
        "    x_oc, y_oc = old_centroids[i]\n",
        "    x_c, y_c = centroids[i]\n",
        "    total_dist += get_dist((x_oc, y_oc), (x_c, y_c))\n",
        "\n",
        "  return total_dist < threshold"
      ],
      "execution_count": 9,
      "outputs": []
    },
    {
      "cell_type": "code",
      "metadata": {
        "id": "uYkhOd4TsybY"
      },
      "source": [
        "labels = main(data, 2)"
      ],
      "execution_count": 10,
      "outputs": []
    },
    {
      "cell_type": "code",
      "metadata": {
        "colab": {
          "base_uri": "https://localhost:8080/"
        },
        "id": "Do1lXE1Cuzwi",
        "outputId": "d96e83f4-4d7d-403f-9b3b-fb069bd13c7b"
      },
      "source": [
        "labels"
      ],
      "execution_count": 11,
      "outputs": [
        {
          "output_type": "execute_result",
          "data": {
            "text/plain": [
              "[1, 1, 1, 1, 1, 1, 1, 0, 0, 0, 0, 0, 0, 0]"
            ]
          },
          "metadata": {},
          "execution_count": 11
        }
      ]
    },
    {
      "cell_type": "markdown",
      "metadata": {
        "id": "h5WWXV9Uwofv"
      },
      "source": [
        "Plot Data"
      ]
    },
    {
      "cell_type": "code",
      "metadata": {
        "id": "y3K1pzi6vNrJ"
      },
      "source": [
        "import matplotlib.pyplot as plt"
      ],
      "execution_count": 12,
      "outputs": []
    },
    {
      "cell_type": "code",
      "metadata": {
        "id": "PhVQVJFVxD8n"
      },
      "source": [
        "x_data = []\n",
        "y_data = []\n",
        "for x,y in data:\n",
        "  x_data.append(x)\n",
        "  y_data.append(y)"
      ],
      "execution_count": 13,
      "outputs": []
    },
    {
      "cell_type": "code",
      "metadata": {
        "colab": {
          "base_uri": "https://localhost:8080/",
          "height": 265
        },
        "id": "OKOP1z7MxgyN",
        "outputId": "2c628861-6954-498e-930c-6132a8be5201"
      },
      "source": [
        "plt.scatter(x_data, y_data)\n",
        "plt.show()"
      ],
      "execution_count": 14,
      "outputs": [
        {
          "output_type": "display_data",
          "data": {
            "image/png": "[encoded data removed]",
            "text/plain": [
              "<Figure size 432x288 with 1 Axes>"
            ]
          },
          "metadata": {
            "needs_background": "light"
          }
        }
      ]
    },
    {
      "cell_type": "code",
      "metadata": {
        "colab": {
          "base_uri": "https://localhost:8080/",
          "height": 265
        },
        "id": "9OtbZvkxxmG5",
        "outputId": "47442287-f328-4c85-e300-8f5c9ce56f51"
      },
      "source": [
        "plt.scatter(x_data, y_data, c = labels)\n",
        "plt.show()"
      ],
      "execution_count": 15,
      "outputs": [
        {
          "output_type": "display_data",
          "data": {
            "image/png": "[encoded data removed]",
            "text/plain": [
              "<Figure size 432x288 with 1 Axes>"
            ]
          },
          "metadata": {
            "needs_background": "light"
          }
        }
      ]
    }
  ]
}