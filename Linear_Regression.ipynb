{
  "nbformat": 4,
  "nbformat_minor": 0,
  "metadata": {
    "colab": {
      "name": "Linear_Regression.ipynb",
      "provenance": [],
      "authorship_tag": "ABX9TyPw8Jt/MijksLkBpr2682Y6",
      "include_colab_link": true
    },
    "kernelspec": {
      "name": "python3",
      "display_name": "Python 3"
    },
    "language_info": {
      "name": "python"
    }
  },
  "cells": [
    {
      "cell_type": "markdown",
      "metadata": {
        "id": "view-in-github",
        "colab_type": "text"
      },
      "source": [
        "<a href=\"https://colab.research.google.com/github/NBK-code/ML_Algorithms/blob/main/Linear_Regression.ipynb\" target=\"_parent\"><img src=\"https://colab.research.google.com/assets/colab-badge.svg\" alt=\"Open In Colab\"/></a>"
      ]
    },
    {
      "cell_type": "code",
      "metadata": {
        "id": "02cJqeo6BMnI"
      },
      "source": [
        "import random\n",
        "import matplotlib.pyplot as plt"
      ],
      "execution_count": 1,
      "outputs": []
    },
    {
      "cell_type": "code",
      "metadata": {
        "id": "aivdNhTE165w"
      },
      "source": [
        "def linear_regression(x, y, epochs = 10, learning_rate = 0.001):\n",
        "\n",
        "  n = len(x) # no of data points\n",
        "  m = len(x[0]) #no of features\n",
        "\n",
        "  b0, bs = initialize_params(m)\n",
        "\n",
        "  for i in range(epochs):\n",
        "\n",
        "    loss, d_bo, d_bs = compute_gradients(x, y, b0, bs, n, m)\n",
        "    print(\"Epoch:\", i+1, \"  loss:\", loss)\n",
        "    b0, bs = update_params(b0, bs, d_bo, d_bs, learning_rate)\n",
        "\n",
        "  return b0, bs\n"
      ],
      "execution_count": 2,
      "outputs": []
    },
    {
      "cell_type": "code",
      "metadata": {
        "id": "Im41yxzc55rd"
      },
      "source": [
        "def initialize_params(m):\n",
        "  b0 = random.random()\n",
        "  bs = [random.random() for _ in range(m)]\n",
        "  return b0, bs"
      ],
      "execution_count": 3,
      "outputs": []
    },
    {
      "cell_type": "code",
      "metadata": {
        "id": "MjL_f8YRBgqr"
      },
      "source": [
        "def compute_gradients(x, y, b0, bs, n, m):\n",
        "  loss = 0\n",
        "  d_b0 = 0\n",
        "  d_bs = []\n",
        "  y_hat_list = []\n",
        "\n",
        "  for i in range(n):\n",
        "    y_hat = b0\n",
        "    for j in range(m):\n",
        "      y_hat += bs[j]*x[i][j]\n",
        "    y_hat_list.append(y_hat)\n",
        "\n",
        "  for i in range(n):\n",
        "    loss += (1/n)*(y[i] - y_hat_list[i])**2\n",
        "\n",
        "  for i in range(n):\n",
        "    d_b0 -= (2/n)*(y[i] - y_hat_list[i])\n",
        "\n",
        "  for j in range(m):\n",
        "    d_bs_j = 0\n",
        "    for i in range(n):\n",
        "      d_bs_j -= (2/n)*(y[i] - y_hat_list[i])*x[i][j]\n",
        "    d_bs.append(d_bs_j)\n",
        "\n",
        "  return loss, d_b0, d_bs"
      ],
      "execution_count": 4,
      "outputs": []
    },
    {
      "cell_type": "code",
      "metadata": {
        "id": "8hI6v9eNHakR"
      },
      "source": [
        "def update_params(b0, bs, d_bo, d_bs, learning_rate):\n",
        "  b0 = b0 - learning_rate*d_bo\n",
        "\n",
        "  for i in range(len(bs)):\n",
        "    bs[i] = bs[i] - learning_rate*d_bs[i]\n",
        "\n",
        "  return b0, bs"
      ],
      "execution_count": 5,
      "outputs": []
    },
    {
      "cell_type": "code",
      "metadata": {
        "id": "m2YNAHWmIBD9"
      },
      "source": [
        "x = [[1],[2],[3],[4],[5],[6],[7],[8],[9],[10]]\n",
        "y = [1.2, 1.6, 3.0, 4.3, 5.6, 5.9, 7.0, 7.5, 8.8, 10.0]"
      ],
      "execution_count": 6,
      "outputs": []
    },
    {
      "cell_type": "code",
      "metadata": {
        "colab": {
          "base_uri": "https://localhost:8080/",
          "height": 265
        },
        "id": "wUmJ-UthJ0ok",
        "outputId": "fee99db7-e2c0-4221-d2f6-33cfcd34bba2"
      },
      "source": [
        "plt.scatter(x, y)\n",
        "plt.show()"
      ],
      "execution_count": 7,
      "outputs": [
        {
          "output_type": "display_data",
          "data": {
            "image/png": "[encoded data removed]",
            "text/plain": [
              "<Figure size 432x288 with 1 Axes>"
            ]
          },
          "metadata": {
            "needs_background": "light"
          }
        }
      ]
    },
    {
      "cell_type": "code",
      "metadata": {
        "colab": {
          "base_uri": "https://localhost:8080/"
        },
        "id": "RxiuWjBcJ9K5",
        "outputId": "95427ebf-9833-4bfe-d026-2757c07e5a41"
      },
      "source": [
        "b0, bs = linear_regression(x, y, epochs = 30, learning_rate = 0.01)"
      ],
      "execution_count": 8,
      "outputs": [
        {
          "output_type": "stream",
          "name": "stdout",
          "text": [
            "Epoch: 1   loss: 10.379972629861573\n",
            "Epoch: 2   loss: 0.5883986963063768\n",
            "Epoch: 3   loss: 0.13891700751004227\n",
            "Epoch: 4   loss: 0.1180659175656744\n",
            "Epoch: 5   loss: 0.11688293070057368\n",
            "Epoch: 6   loss: 0.11660424157361073\n",
            "Epoch: 7   loss: 0.1163689238276594\n",
            "Epoch: 8   loss: 0.11613746115478872\n",
            "Epoch: 9   loss: 0.11590802485728785\n",
            "Epoch: 10   loss: 0.11568051553039752\n",
            "Epoch: 11   loss: 0.11545491324173816\n",
            "Epoch: 12   loss: 0.11523120183407354\n",
            "Epoch: 13   loss: 0.11500936545113216\n",
            "Epoch: 14   loss: 0.11478938837713717\n",
            "Epoch: 15   loss: 0.11457125502837981\n",
            "Epoch: 16   loss: 0.11435494995178212\n",
            "Epoch: 17   loss: 0.11414045782378582\n",
            "Epoch: 18   loss: 0.11392776344926599\n",
            "Epoch: 19   loss: 0.1137168517604551\n",
            "Epoch: 20   loss: 0.11350770781587496\n",
            "Epoch: 21   loss: 0.11330031679927846\n",
            "Epoch: 22   loss: 0.11309466401860033\n",
            "Epoch: 23   loss: 0.11289073490491597\n",
            "Epoch: 24   loss: 0.1126885150114092\n",
            "Epoch: 25   loss: 0.11248799001234892\n",
            "Epoch: 26   loss: 0.11228914570207443\n",
            "Epoch: 27   loss: 0.11209196799398945\n",
            "Epoch: 28   loss: 0.11189644291956284\n",
            "Epoch: 29   loss: 0.11170255662734033\n",
            "Epoch: 30   loss: 0.11151029538196282\n"
          ]
        }
      ]
    }
  ]
}